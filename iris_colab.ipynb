{
 "cells": [
  {
   "cell_type": "markdown",
   "metadata": {
    "id": "jjmP6P5UhB6F"
   },
   "source": [
    "# The Dataset \n",
    "## https://archive.ics.uci.edu/ml/datasets/iris\n"
   ]
  },
  {
   "cell_type": "code",
   "execution_count": 1,
   "metadata": {
    "id": "GvqE-e_dhB6G"
   },
   "outputs": [],
   "source": [
    "#Import Lib\n",
    "import numpy as np\n",
    "import seaborn as sns #vizualization\n",
    "import matplotlib.pyplot as plt\n",
    "import pandas as pd"
   ]
  },
  {
   "cell_type": "code",
   "execution_count": 2,
   "metadata": {
    "id": "gpINpZYahB6K"
   },
   "outputs": [],
   "source": [
    "# Read the CSV \n",
    "df = pd.read_csv('iris.data.csv')\n",
    "x= df.iloc[: , [1,2,3,4]].values\n"
   ]
  },
  {
   "cell_type": "code",
   "execution_count": 3,
   "metadata": {
    "id": "90TI4FVFhB6N",
    "outputId": "b60d1b13-0145-4528-c980-8256041c7ada"
   },
   "outputs": [
    {
     "name": "stdout",
     "output_type": "stream",
     "text": [
      "[[3.0 1.4 0.2 'Iris-setosa']\n",
      " [3.2 1.3 0.2 'Iris-setosa']\n",
      " [3.1 1.5 0.2 'Iris-setosa']\n",
      " [3.6 1.4 0.2 'Iris-setosa']\n",
      " [3.9 1.7 0.4 'Iris-setosa']\n",
      " [3.4 1.4 0.3 'Iris-setosa']\n",
      " [3.4 1.5 0.2 'Iris-setosa']\n",
      " [2.9 1.4 0.2 'Iris-setosa']\n",
      " [3.1 1.5 0.1 'Iris-setosa']\n",
      " [3.7 1.5 0.2 'Iris-setosa']\n",
      " [3.4 1.6 0.2 'Iris-setosa']\n",
      " [3.0 1.4 0.1 'Iris-setosa']\n",
      " [3.0 1.1 0.1 'Iris-setosa']\n",
      " [4.0 1.2 0.2 'Iris-setosa']\n",
      " [4.4 1.5 0.4 'Iris-setosa']\n",
      " [3.9 1.3 0.4 'Iris-setosa']\n",
      " [3.5 1.4 0.3 'Iris-setosa']\n",
      " [3.8 1.7 0.3 'Iris-setosa']\n",
      " [3.8 1.5 0.3 'Iris-setosa']\n",
      " [3.4 1.7 0.2 'Iris-setosa']\n",
      " [3.7 1.5 0.4 'Iris-setosa']\n",
      " [3.6 1.0 0.2 'Iris-setosa']\n",
      " [3.3 1.7 0.5 'Iris-setosa']\n",
      " [3.4 1.9 0.2 'Iris-setosa']\n",
      " [3.0 1.6 0.2 'Iris-setosa']\n",
      " [3.4 1.6 0.4 'Iris-setosa']\n",
      " [3.5 1.5 0.2 'Iris-setosa']\n",
      " [3.4 1.4 0.2 'Iris-setosa']\n",
      " [3.2 1.6 0.2 'Iris-setosa']\n",
      " [3.1 1.6 0.2 'Iris-setosa']\n",
      " [3.4 1.5 0.4 'Iris-setosa']\n",
      " [4.1 1.5 0.1 'Iris-setosa']\n",
      " [4.2 1.4 0.2 'Iris-setosa']\n",
      " [3.1 1.5 0.1 'Iris-setosa']\n",
      " [3.2 1.2 0.2 'Iris-setosa']\n",
      " [3.5 1.3 0.2 'Iris-setosa']\n",
      " [3.1 1.5 0.1 'Iris-setosa']\n",
      " [3.0 1.3 0.2 'Iris-setosa']\n",
      " [3.4 1.5 0.2 'Iris-setosa']\n",
      " [3.5 1.3 0.3 'Iris-setosa']\n",
      " [2.3 1.3 0.3 'Iris-setosa']\n",
      " [3.2 1.3 0.2 'Iris-setosa']\n",
      " [3.5 1.6 0.6 'Iris-setosa']\n",
      " [3.8 1.9 0.4 'Iris-setosa']\n",
      " [3.0 1.4 0.3 'Iris-setosa']\n",
      " [3.8 1.6 0.2 'Iris-setosa']\n",
      " [3.2 1.4 0.2 'Iris-setosa']\n",
      " [3.7 1.5 0.2 'Iris-setosa']\n",
      " [3.3 1.4 0.2 'Iris-setosa']\n",
      " [3.2 4.7 1.4 'Iris-versicolor']\n",
      " [3.2 4.5 1.5 'Iris-versicolor']\n",
      " [3.1 4.9 1.5 'Iris-versicolor']\n",
      " [2.3 4.0 1.3 'Iris-versicolor']\n",
      " [2.8 4.6 1.5 'Iris-versicolor']\n",
      " [2.8 4.5 1.3 'Iris-versicolor']\n",
      " [3.3 4.7 1.6 'Iris-versicolor']\n",
      " [2.4 3.3 1.0 'Iris-versicolor']\n",
      " [2.9 4.6 1.3 'Iris-versicolor']\n",
      " [2.7 3.9 1.4 'Iris-versicolor']\n",
      " [2.0 3.5 1.0 'Iris-versicolor']\n",
      " [3.0 4.2 1.5 'Iris-versicolor']\n",
      " [2.2 4.0 1.0 'Iris-versicolor']\n",
      " [2.9 4.7 1.4 'Iris-versicolor']\n",
      " [2.9 3.6 1.3 'Iris-versicolor']\n",
      " [3.1 4.4 1.4 'Iris-versicolor']\n",
      " [3.0 4.5 1.5 'Iris-versicolor']\n",
      " [2.7 4.1 1.0 'Iris-versicolor']\n",
      " [2.2 4.5 1.5 'Iris-versicolor']\n",
      " [2.5 3.9 1.1 'Iris-versicolor']\n",
      " [3.2 4.8 1.8 'Iris-versicolor']\n",
      " [2.8 4.0 1.3 'Iris-versicolor']\n",
      " [2.5 4.9 1.5 'Iris-versicolor']\n",
      " [2.8 4.7 1.2 'Iris-versicolor']\n",
      " [2.9 4.3 1.3 'Iris-versicolor']\n",
      " [3.0 4.4 1.4 'Iris-versicolor']\n",
      " [2.8 4.8 1.4 'Iris-versicolor']\n",
      " [3.0 5.0 1.7 'Iris-versicolor']\n",
      " [2.9 4.5 1.5 'Iris-versicolor']\n",
      " [2.6 3.5 1.0 'Iris-versicolor']\n",
      " [2.4 3.8 1.1 'Iris-versicolor']\n",
      " [2.4 3.7 1.0 'Iris-versicolor']\n",
      " [2.7 3.9 1.2 'Iris-versicolor']\n",
      " [2.7 5.1 1.6 'Iris-versicolor']\n",
      " [3.0 4.5 1.5 'Iris-versicolor']\n",
      " [3.4 4.5 1.6 'Iris-versicolor']\n",
      " [3.1 4.7 1.5 'Iris-versicolor']\n",
      " [2.3 4.4 1.3 'Iris-versicolor']\n",
      " [3.0 4.1 1.3 'Iris-versicolor']\n",
      " [2.5 4.0 1.3 'Iris-versicolor']\n",
      " [2.6 4.4 1.2 'Iris-versicolor']\n",
      " [3.0 4.6 1.4 'Iris-versicolor']\n",
      " [2.6 4.0 1.2 'Iris-versicolor']\n",
      " [2.3 3.3 1.0 'Iris-versicolor']\n",
      " [2.7 4.2 1.3 'Iris-versicolor']\n",
      " [3.0 4.2 1.2 'Iris-versicolor']\n",
      " [2.9 4.2 1.3 'Iris-versicolor']\n",
      " [2.9 4.3 1.3 'Iris-versicolor']\n",
      " [2.5 3.0 1.1 'Iris-versicolor']\n",
      " [2.8 4.1 1.3 'Iris-versicolor']\n",
      " [3.3 6.0 2.5 'Iris-virginica']\n",
      " [2.7 5.1 1.9 'Iris-virginica']\n",
      " [3.0 5.9 2.1 'Iris-virginica']\n",
      " [2.9 5.6 1.8 'Iris-virginica']\n",
      " [3.0 5.8 2.2 'Iris-virginica']\n",
      " [3.0 6.6 2.1 'Iris-virginica']\n",
      " [2.5 4.5 1.7 'Iris-virginica']\n",
      " [2.9 6.3 1.8 'Iris-virginica']\n",
      " [2.5 5.8 1.8 'Iris-virginica']\n",
      " [3.6 6.1 2.5 'Iris-virginica']\n",
      " [3.2 5.1 2.0 'Iris-virginica']\n",
      " [2.7 5.3 1.9 'Iris-virginica']\n",
      " [3.0 5.5 2.1 'Iris-virginica']\n",
      " [2.5 5.0 2.0 'Iris-virginica']\n",
      " [2.8 5.1 2.4 'Iris-virginica']\n",
      " [3.2 5.3 2.3 'Iris-virginica']\n",
      " [3.0 5.5 1.8 'Iris-virginica']\n",
      " [3.8 6.7 2.2 'Iris-virginica']\n",
      " [2.6 6.9 2.3 'Iris-virginica']\n",
      " [2.2 5.0 1.5 'Iris-virginica']\n",
      " [3.2 5.7 2.3 'Iris-virginica']\n",
      " [2.8 4.9 2.0 'Iris-virginica']\n",
      " [2.8 6.7 2.0 'Iris-virginica']\n",
      " [2.7 4.9 1.8 'Iris-virginica']\n",
      " [3.3 5.7 2.1 'Iris-virginica']\n",
      " [3.2 6.0 1.8 'Iris-virginica']\n",
      " [2.8 4.8 1.8 'Iris-virginica']\n",
      " [3.0 4.9 1.8 'Iris-virginica']\n",
      " [2.8 5.6 2.1 'Iris-virginica']\n",
      " [3.0 5.8 1.6 'Iris-virginica']\n",
      " [2.8 6.1 1.9 'Iris-virginica']\n",
      " [3.8 6.4 2.0 'Iris-virginica']\n",
      " [2.8 5.6 2.2 'Iris-virginica']\n",
      " [2.8 5.1 1.5 'Iris-virginica']\n",
      " [2.6 5.6 1.4 'Iris-virginica']\n",
      " [3.0 6.1 2.3 'Iris-virginica']\n",
      " [3.4 5.6 2.4 'Iris-virginica']\n",
      " [3.1 5.5 1.8 'Iris-virginica']\n",
      " [3.0 4.8 1.8 'Iris-virginica']\n",
      " [3.1 5.4 2.1 'Iris-virginica']\n",
      " [3.1 5.6 2.4 'Iris-virginica']\n",
      " [3.1 5.1 2.3 'Iris-virginica']\n",
      " [2.7 5.1 1.9 'Iris-virginica']\n",
      " [3.2 5.9 2.3 'Iris-virginica']\n",
      " [3.3 5.7 2.5 'Iris-virginica']\n",
      " [3.0 5.2 2.3 'Iris-virginica']\n",
      " [2.5 5.0 1.9 'Iris-virginica']\n",
      " [3.0 5.2 2.0 'Iris-virginica']\n",
      " [3.4 5.4 2.3 'Iris-virginica']\n",
      " [3.0 5.1 1.8 'Iris-virginica']]\n"
     ]
    }
   ],
   "source": [
    "print(x)"
   ]
  },
  {
   "cell_type": "code",
   "execution_count": 4,
   "metadata": {
    "colab": {
     "base_uri": "https://localhost:8080/",
     "height": 198
    },
    "id": "FaPbXeIChB6R",
    "outputId": "0c34886f-6648-4f2f-fd82-3949ae0e44f9"
   },
   "outputs": [
    {
     "data": {
      "text/html": [
       "<div>\n",
       "<style scoped>\n",
       "    .dataframe tbody tr th:only-of-type {\n",
       "        vertical-align: middle;\n",
       "    }\n",
       "\n",
       "    .dataframe tbody tr th {\n",
       "        vertical-align: top;\n",
       "    }\n",
       "\n",
       "    .dataframe thead th {\n",
       "        text-align: right;\n",
       "    }\n",
       "</style>\n",
       "<table border=\"1\" class=\"dataframe\">\n",
       "  <thead>\n",
       "    <tr style=\"text-align: right;\">\n",
       "      <th></th>\n",
       "      <th>0</th>\n",
       "      <th>1</th>\n",
       "      <th>2</th>\n",
       "      <th>3</th>\n",
       "      <th>4</th>\n",
       "    </tr>\n",
       "  </thead>\n",
       "  <tbody>\n",
       "    <tr>\n",
       "      <th>0</th>\n",
       "      <td>5.1</td>\n",
       "      <td>3.5</td>\n",
       "      <td>1.4</td>\n",
       "      <td>0.2</td>\n",
       "      <td>Iris-setosa</td>\n",
       "    </tr>\n",
       "    <tr>\n",
       "      <th>1</th>\n",
       "      <td>4.9</td>\n",
       "      <td>3.0</td>\n",
       "      <td>1.4</td>\n",
       "      <td>0.2</td>\n",
       "      <td>Iris-setosa</td>\n",
       "    </tr>\n",
       "    <tr>\n",
       "      <th>2</th>\n",
       "      <td>4.7</td>\n",
       "      <td>3.2</td>\n",
       "      <td>1.3</td>\n",
       "      <td>0.2</td>\n",
       "      <td>Iris-setosa</td>\n",
       "    </tr>\n",
       "    <tr>\n",
       "      <th>3</th>\n",
       "      <td>4.6</td>\n",
       "      <td>3.1</td>\n",
       "      <td>1.5</td>\n",
       "      <td>0.2</td>\n",
       "      <td>Iris-setosa</td>\n",
       "    </tr>\n",
       "    <tr>\n",
       "      <th>4</th>\n",
       "      <td>5.0</td>\n",
       "      <td>3.6</td>\n",
       "      <td>1.4</td>\n",
       "      <td>0.2</td>\n",
       "      <td>Iris-setosa</td>\n",
       "    </tr>\n",
       "  </tbody>\n",
       "</table>\n",
       "</div>"
      ],
      "text/plain": [
       "     0    1    2    3            4\n",
       "0  5.1  3.5  1.4  0.2  Iris-setosa\n",
       "1  4.9  3.0  1.4  0.2  Iris-setosa\n",
       "2  4.7  3.2  1.3  0.2  Iris-setosa\n",
       "3  4.6  3.1  1.5  0.2  Iris-setosa\n",
       "4  5.0  3.6  1.4  0.2  Iris-setosa"
      ]
     },
     "execution_count": 4,
     "metadata": {},
     "output_type": "execute_result"
    }
   ],
   "source": [
    "# Read the CSV \n",
    "\n",
    "df1 = pd.read_csv('iris.data.csv', header=None)\n",
    "df1.head()"
   ]
  },
  {
   "cell_type": "code",
   "execution_count": 5,
   "metadata": {
    "colab": {
     "base_uri": "https://localhost:8080/",
     "height": 288
    },
    "id": "pL_NaBDkhB6U",
    "outputId": "dab1ab50-5a18-43ae-a3dd-761e16452f7f"
   },
   "outputs": [
    {
     "data": {
      "text/html": [
       "<div>\n",
       "<style scoped>\n",
       "    .dataframe tbody tr th:only-of-type {\n",
       "        vertical-align: middle;\n",
       "    }\n",
       "\n",
       "    .dataframe tbody tr th {\n",
       "        vertical-align: top;\n",
       "    }\n",
       "\n",
       "    .dataframe thead th {\n",
       "        text-align: right;\n",
       "    }\n",
       "</style>\n",
       "<table border=\"1\" class=\"dataframe\">\n",
       "  <thead>\n",
       "    <tr style=\"text-align: right;\">\n",
       "      <th></th>\n",
       "      <th>0</th>\n",
       "      <th>1</th>\n",
       "      <th>2</th>\n",
       "      <th>3</th>\n",
       "    </tr>\n",
       "  </thead>\n",
       "  <tbody>\n",
       "    <tr>\n",
       "      <th>count</th>\n",
       "      <td>150.000000</td>\n",
       "      <td>150.000000</td>\n",
       "      <td>150.000000</td>\n",
       "      <td>150.000000</td>\n",
       "    </tr>\n",
       "    <tr>\n",
       "      <th>mean</th>\n",
       "      <td>5.843333</td>\n",
       "      <td>3.054000</td>\n",
       "      <td>3.758667</td>\n",
       "      <td>1.198667</td>\n",
       "    </tr>\n",
       "    <tr>\n",
       "      <th>std</th>\n",
       "      <td>0.828066</td>\n",
       "      <td>0.433594</td>\n",
       "      <td>1.764420</td>\n",
       "      <td>0.763161</td>\n",
       "    </tr>\n",
       "    <tr>\n",
       "      <th>min</th>\n",
       "      <td>4.300000</td>\n",
       "      <td>2.000000</td>\n",
       "      <td>1.000000</td>\n",
       "      <td>0.100000</td>\n",
       "    </tr>\n",
       "    <tr>\n",
       "      <th>25%</th>\n",
       "      <td>5.100000</td>\n",
       "      <td>2.800000</td>\n",
       "      <td>1.600000</td>\n",
       "      <td>0.300000</td>\n",
       "    </tr>\n",
       "    <tr>\n",
       "      <th>50%</th>\n",
       "      <td>5.800000</td>\n",
       "      <td>3.000000</td>\n",
       "      <td>4.350000</td>\n",
       "      <td>1.300000</td>\n",
       "    </tr>\n",
       "    <tr>\n",
       "      <th>75%</th>\n",
       "      <td>6.400000</td>\n",
       "      <td>3.300000</td>\n",
       "      <td>5.100000</td>\n",
       "      <td>1.800000</td>\n",
       "    </tr>\n",
       "    <tr>\n",
       "      <th>max</th>\n",
       "      <td>7.900000</td>\n",
       "      <td>4.400000</td>\n",
       "      <td>6.900000</td>\n",
       "      <td>2.500000</td>\n",
       "    </tr>\n",
       "  </tbody>\n",
       "</table>\n",
       "</div>"
      ],
      "text/plain": [
       "                0           1           2           3\n",
       "count  150.000000  150.000000  150.000000  150.000000\n",
       "mean     5.843333    3.054000    3.758667    1.198667\n",
       "std      0.828066    0.433594    1.764420    0.763161\n",
       "min      4.300000    2.000000    1.000000    0.100000\n",
       "25%      5.100000    2.800000    1.600000    0.300000\n",
       "50%      5.800000    3.000000    4.350000    1.300000\n",
       "75%      6.400000    3.300000    5.100000    1.800000\n",
       "max      7.900000    4.400000    6.900000    2.500000"
      ]
     },
     "execution_count": 5,
     "metadata": {},
     "output_type": "execute_result"
    }
   ],
   "source": [
    "df1.describe()"
   ]
  },
  {
   "cell_type": "code",
   "execution_count": 6,
   "metadata": {
    "colab": {
     "base_uri": "https://localhost:8080/",
     "height": 235
    },
    "id": "SyDbfdfbhB6X",
    "outputId": "3b3ce88f-0d51-40e8-b422-9011cdc33071"
   },
   "outputs": [
    {
     "name": "stdout",
     "output_type": "stream",
     "text": [
      "<class 'pandas.core.frame.DataFrame'>\n",
      "RangeIndex: 150 entries, 0 to 149\n",
      "Data columns (total 5 columns):\n",
      " #   Column  Non-Null Count  Dtype  \n",
      "---  ------  --------------  -----  \n",
      " 0   0       150 non-null    float64\n",
      " 1   1       150 non-null    float64\n",
      " 2   2       150 non-null    float64\n",
      " 3   3       150 non-null    float64\n",
      " 4   4       150 non-null    object \n",
      "dtypes: float64(4), object(1)\n",
      "memory usage: 6.0+ KB\n"
     ]
    }
   ],
   "source": [
    "df1.info()"
   ]
  },
  {
   "cell_type": "code",
   "execution_count": 7,
   "metadata": {
    "colab": {
     "base_uri": "https://localhost:8080/",
     "height": 198
    },
    "id": "qZhvc-FYhB6a",
    "outputId": "9163f0c5-67ac-4cfc-f2b7-5135884f1b23"
   },
   "outputs": [
    {
     "data": {
      "text/html": [
       "<div>\n",
       "<style scoped>\n",
       "    .dataframe tbody tr th:only-of-type {\n",
       "        vertical-align: middle;\n",
       "    }\n",
       "\n",
       "    .dataframe tbody tr th {\n",
       "        vertical-align: top;\n",
       "    }\n",
       "\n",
       "    .dataframe thead th {\n",
       "        text-align: right;\n",
       "    }\n",
       "</style>\n",
       "<table border=\"1\" class=\"dataframe\">\n",
       "  <thead>\n",
       "    <tr style=\"text-align: right;\">\n",
       "      <th></th>\n",
       "      <th>0</th>\n",
       "      <th>1</th>\n",
       "      <th>2</th>\n",
       "      <th>3</th>\n",
       "      <th>4</th>\n",
       "    </tr>\n",
       "  </thead>\n",
       "  <tbody>\n",
       "    <tr>\n",
       "      <th>145</th>\n",
       "      <td>6.7</td>\n",
       "      <td>3.0</td>\n",
       "      <td>5.2</td>\n",
       "      <td>2.3</td>\n",
       "      <td>Iris-virginica</td>\n",
       "    </tr>\n",
       "    <tr>\n",
       "      <th>146</th>\n",
       "      <td>6.3</td>\n",
       "      <td>2.5</td>\n",
       "      <td>5.0</td>\n",
       "      <td>1.9</td>\n",
       "      <td>Iris-virginica</td>\n",
       "    </tr>\n",
       "    <tr>\n",
       "      <th>147</th>\n",
       "      <td>6.5</td>\n",
       "      <td>3.0</td>\n",
       "      <td>5.2</td>\n",
       "      <td>2.0</td>\n",
       "      <td>Iris-virginica</td>\n",
       "    </tr>\n",
       "    <tr>\n",
       "      <th>148</th>\n",
       "      <td>6.2</td>\n",
       "      <td>3.4</td>\n",
       "      <td>5.4</td>\n",
       "      <td>2.3</td>\n",
       "      <td>Iris-virginica</td>\n",
       "    </tr>\n",
       "    <tr>\n",
       "      <th>149</th>\n",
       "      <td>5.9</td>\n",
       "      <td>3.0</td>\n",
       "      <td>5.1</td>\n",
       "      <td>1.8</td>\n",
       "      <td>Iris-virginica</td>\n",
       "    </tr>\n",
       "  </tbody>\n",
       "</table>\n",
       "</div>"
      ],
      "text/plain": [
       "       0    1    2    3               4\n",
       "145  6.7  3.0  5.2  2.3  Iris-virginica\n",
       "146  6.3  2.5  5.0  1.9  Iris-virginica\n",
       "147  6.5  3.0  5.2  2.0  Iris-virginica\n",
       "148  6.2  3.4  5.4  2.3  Iris-virginica\n",
       "149  5.9  3.0  5.1  1.8  Iris-virginica"
      ]
     },
     "execution_count": 7,
     "metadata": {},
     "output_type": "execute_result"
    }
   ],
   "source": [
    "df1.tail()"
   ]
  },
  {
   "cell_type": "code",
   "execution_count": 8,
   "metadata": {
    "id": "yPS0XFFshB6d"
   },
   "outputs": [],
   "source": [
    "y = df.iloc[:,4].values"
   ]
  },
  {
   "cell_type": "code",
   "execution_count": 9,
   "metadata": {
    "colab": {
     "base_uri": "https://localhost:8080/",
     "height": 654
    },
    "id": "YnJz1K8rhB6g",
    "outputId": "98a8cd1b-aaf8-4a8a-d2ff-a8acc5199171"
   },
   "outputs": [
    {
     "name": "stdout",
     "output_type": "stream",
     "text": [
      "['Iris-setosa' 'Iris-setosa' 'Iris-setosa' 'Iris-setosa' 'Iris-setosa'\n",
      " 'Iris-setosa' 'Iris-setosa' 'Iris-setosa' 'Iris-setosa' 'Iris-setosa'\n",
      " 'Iris-setosa' 'Iris-setosa' 'Iris-setosa' 'Iris-setosa' 'Iris-setosa'\n",
      " 'Iris-setosa' 'Iris-setosa' 'Iris-setosa' 'Iris-setosa' 'Iris-setosa'\n",
      " 'Iris-setosa' 'Iris-setosa' 'Iris-setosa' 'Iris-setosa' 'Iris-setosa'\n",
      " 'Iris-setosa' 'Iris-setosa' 'Iris-setosa' 'Iris-setosa' 'Iris-setosa'\n",
      " 'Iris-setosa' 'Iris-setosa' 'Iris-setosa' 'Iris-setosa' 'Iris-setosa'\n",
      " 'Iris-setosa' 'Iris-setosa' 'Iris-setosa' 'Iris-setosa' 'Iris-setosa'\n",
      " 'Iris-setosa' 'Iris-setosa' 'Iris-setosa' 'Iris-setosa' 'Iris-setosa'\n",
      " 'Iris-setosa' 'Iris-setosa' 'Iris-setosa' 'Iris-setosa' 'Iris-versicolor'\n",
      " 'Iris-versicolor' 'Iris-versicolor' 'Iris-versicolor' 'Iris-versicolor'\n",
      " 'Iris-versicolor' 'Iris-versicolor' 'Iris-versicolor' 'Iris-versicolor'\n",
      " 'Iris-versicolor' 'Iris-versicolor' 'Iris-versicolor' 'Iris-versicolor'\n",
      " 'Iris-versicolor' 'Iris-versicolor' 'Iris-versicolor' 'Iris-versicolor'\n",
      " 'Iris-versicolor' 'Iris-versicolor' 'Iris-versicolor' 'Iris-versicolor'\n",
      " 'Iris-versicolor' 'Iris-versicolor' 'Iris-versicolor' 'Iris-versicolor'\n",
      " 'Iris-versicolor' 'Iris-versicolor' 'Iris-versicolor' 'Iris-versicolor'\n",
      " 'Iris-versicolor' 'Iris-versicolor' 'Iris-versicolor' 'Iris-versicolor'\n",
      " 'Iris-versicolor' 'Iris-versicolor' 'Iris-versicolor' 'Iris-versicolor'\n",
      " 'Iris-versicolor' 'Iris-versicolor' 'Iris-versicolor' 'Iris-versicolor'\n",
      " 'Iris-versicolor' 'Iris-versicolor' 'Iris-versicolor' 'Iris-versicolor'\n",
      " 'Iris-versicolor' 'Iris-versicolor' 'Iris-versicolor' 'Iris-versicolor'\n",
      " 'Iris-versicolor' 'Iris-virginica' 'Iris-virginica' 'Iris-virginica'\n",
      " 'Iris-virginica' 'Iris-virginica' 'Iris-virginica' 'Iris-virginica'\n",
      " 'Iris-virginica' 'Iris-virginica' 'Iris-virginica' 'Iris-virginica'\n",
      " 'Iris-virginica' 'Iris-virginica' 'Iris-virginica' 'Iris-virginica'\n",
      " 'Iris-virginica' 'Iris-virginica' 'Iris-virginica' 'Iris-virginica'\n",
      " 'Iris-virginica' 'Iris-virginica' 'Iris-virginica' 'Iris-virginica'\n",
      " 'Iris-virginica' 'Iris-virginica' 'Iris-virginica' 'Iris-virginica'\n",
      " 'Iris-virginica' 'Iris-virginica' 'Iris-virginica' 'Iris-virginica'\n",
      " 'Iris-virginica' 'Iris-virginica' 'Iris-virginica' 'Iris-virginica'\n",
      " 'Iris-virginica' 'Iris-virginica' 'Iris-virginica' 'Iris-virginica'\n",
      " 'Iris-virginica' 'Iris-virginica' 'Iris-virginica' 'Iris-virginica'\n",
      " 'Iris-virginica' 'Iris-virginica' 'Iris-virginica' 'Iris-virginica'\n",
      " 'Iris-virginica' 'Iris-virginica' 'Iris-virginica']\n"
     ]
    }
   ],
   "source": [
    "print(y)"
   ]
  },
  {
   "cell_type": "code",
   "execution_count": 10,
   "metadata": {
    "colab": {
     "base_uri": "https://localhost:8080/",
     "height": 35
    },
    "id": "9tplnB1ghB6j",
    "outputId": "fa940865-eb00-4863-97ed-c914817a52a8"
   },
   "outputs": [
    {
     "data": {
      "text/plain": [
       "array(['Iris-setosa', 'Iris-versicolor', 'Iris-virginica'], dtype=object)"
      ]
     },
     "execution_count": 10,
     "metadata": {},
     "output_type": "execute_result"
    }
   ],
   "source": [
    "np.unique(y)"
   ]
  },
  {
   "cell_type": "code",
   "execution_count": null,
   "metadata": {
    "id": "pj40kH8ahB6m"
   },
   "outputs": [],
   "source": []
  },
  {
   "cell_type": "code",
   "execution_count": 11,
   "metadata": {
    "colab": {
     "base_uri": "https://localhost:8080/",
     "height": 645
    },
    "id": "u49axCH7hB6p",
    "outputId": "1b7c5ad6-5329-4c9a-9e57-5c287efbbda0"
   },
   "outputs": [
    {
     "data": {
      "image/png": "[encoded data removed]",
      "text/plain": [
       "<Figure size 720x720 with 20 Axes>"
      ]
     },
     "metadata": {
      "needs_background": "light"
     },
     "output_type": "display_data"
    }
   ],
   "source": [
    "sns.pairplot(data=df1[df1.columns[0:6]])\n",
    "plt.show()"
   ]
  },
  {
   "cell_type": "code",
   "execution_count": 12,
   "metadata": {
    "colab": {
     "base_uri": "https://localhost:8080/",
     "height": 324
    },
    "id": "knANfK_uhB6s",
    "outputId": "625bfea5-e055-443d-f7fb-39589b45975b"
   },
   "outputs": [
    {
     "data": {
      "image/png": "[encoded data removed]",
      "text/plain": [
       "<Figure size 576x360 with 2 Axes>"
      ]
     },
     "metadata": {
      "needs_background": "light"
     },
     "output_type": "display_data"
    }
   ],
   "source": [
    "plt.figure(figsize=(8,5))\n",
    "sns.heatmap(df1.corr(),annot=True,cmap='cubehelix_r') \n",
    "plt.show()"
   ]
  },
  {
   "cell_type": "code",
   "execution_count": null,
   "metadata": {
    "id": "Z7Dh1JlFhB6v"
   },
   "outputs": [],
   "source": []
  },
  {
   "cell_type": "code",
   "execution_count": 13,
   "metadata": {
    "id": "5mqxM4w9hB6y"
   },
   "outputs": [],
   "source": [
    "from sklearn import preprocessing\n",
    "le = preprocessing.LabelEncoder()"
   ]
  },
  {
   "cell_type": "code",
   "execution_count": 14,
   "metadata": {
    "id": "DwSvnc6LhB61"
   },
   "outputs": [],
   "source": [
    "le = le.fit(y)"
   ]
  },
  {
   "cell_type": "code",
   "execution_count": 15,
   "metadata": {
    "id": "Ylg4We9ihB63"
   },
   "outputs": [],
   "source": [
    "le = le.fit(y)"
   ]
  },
  {
   "cell_type": "code",
   "execution_count": 16,
   "metadata": {
    "colab": {
     "base_uri": "https://localhost:8080/",
     "height": 654
    },
    "id": "0Vai8AJnhB66",
    "outputId": "308d51a9-0b4a-4387-e008-6ea68bcd240b"
   },
   "outputs": [
    {
     "name": "stdout",
     "output_type": "stream",
     "text": [
      "['Iris-setosa' 'Iris-setosa' 'Iris-setosa' 'Iris-setosa' 'Iris-setosa'\n",
      " 'Iris-setosa' 'Iris-setosa' 'Iris-setosa' 'Iris-setosa' 'Iris-setosa'\n",
      " 'Iris-setosa' 'Iris-setosa' 'Iris-setosa' 'Iris-setosa' 'Iris-setosa'\n",
      " 'Iris-setosa' 'Iris-setosa' 'Iris-setosa' 'Iris-setosa' 'Iris-setosa'\n",
      " 'Iris-setosa' 'Iris-setosa' 'Iris-setosa' 'Iris-setosa' 'Iris-setosa'\n",
      " 'Iris-setosa' 'Iris-setosa' 'Iris-setosa' 'Iris-setosa' 'Iris-setosa'\n",
      " 'Iris-setosa' 'Iris-setosa' 'Iris-setosa' 'Iris-setosa' 'Iris-setosa'\n",
      " 'Iris-setosa' 'Iris-setosa' 'Iris-setosa' 'Iris-setosa' 'Iris-setosa'\n",
      " 'Iris-setosa' 'Iris-setosa' 'Iris-setosa' 'Iris-setosa' 'Iris-setosa'\n",
      " 'Iris-setosa' 'Iris-setosa' 'Iris-setosa' 'Iris-setosa' 'Iris-versicolor'\n",
      " 'Iris-versicolor' 'Iris-versicolor' 'Iris-versicolor' 'Iris-versicolor'\n",
      " 'Iris-versicolor' 'Iris-versicolor' 'Iris-versicolor' 'Iris-versicolor'\n",
      " 'Iris-versicolor' 'Iris-versicolor' 'Iris-versicolor' 'Iris-versicolor'\n",
      " 'Iris-versicolor' 'Iris-versicolor' 'Iris-versicolor' 'Iris-versicolor'\n",
      " 'Iris-versicolor' 'Iris-versicolor' 'Iris-versicolor' 'Iris-versicolor'\n",
      " 'Iris-versicolor' 'Iris-versicolor' 'Iris-versicolor' 'Iris-versicolor'\n",
      " 'Iris-versicolor' 'Iris-versicolor' 'Iris-versicolor' 'Iris-versicolor'\n",
      " 'Iris-versicolor' 'Iris-versicolor' 'Iris-versicolor' 'Iris-versicolor'\n",
      " 'Iris-versicolor' 'Iris-versicolor' 'Iris-versicolor' 'Iris-versicolor'\n",
      " 'Iris-versicolor' 'Iris-versicolor' 'Iris-versicolor' 'Iris-versicolor'\n",
      " 'Iris-versicolor' 'Iris-versicolor' 'Iris-versicolor' 'Iris-versicolor'\n",
      " 'Iris-versicolor' 'Iris-versicolor' 'Iris-versicolor' 'Iris-versicolor'\n",
      " 'Iris-versicolor' 'Iris-virginica' 'Iris-virginica' 'Iris-virginica'\n",
      " 'Iris-virginica' 'Iris-virginica' 'Iris-virginica' 'Iris-virginica'\n",
      " 'Iris-virginica' 'Iris-virginica' 'Iris-virginica' 'Iris-virginica'\n",
      " 'Iris-virginica' 'Iris-virginica' 'Iris-virginica' 'Iris-virginica'\n",
      " 'Iris-virginica' 'Iris-virginica' 'Iris-virginica' 'Iris-virginica'\n",
      " 'Iris-virginica' 'Iris-virginica' 'Iris-virginica' 'Iris-virginica'\n",
      " 'Iris-virginica' 'Iris-virginica' 'Iris-virginica' 'Iris-virginica'\n",
      " 'Iris-virginica' 'Iris-virginica' 'Iris-virginica' 'Iris-virginica'\n",
      " 'Iris-virginica' 'Iris-virginica' 'Iris-virginica' 'Iris-virginica'\n",
      " 'Iris-virginica' 'Iris-virginica' 'Iris-virginica' 'Iris-virginica'\n",
      " 'Iris-virginica' 'Iris-virginica' 'Iris-virginica' 'Iris-virginica'\n",
      " 'Iris-virginica' 'Iris-virginica' 'Iris-virginica' 'Iris-virginica'\n",
      " 'Iris-virginica' 'Iris-virginica' 'Iris-virginica']\n"
     ]
    }
   ],
   "source": [
    "print(y)"
   ]
  },
  {
   "cell_type": "code",
   "execution_count": 17,
   "metadata": {
    "colab": {
     "base_uri": "https://localhost:8080/",
     "height": 35
    },
    "id": "UEZD0ib_hB69",
    "outputId": "2a20b279-fbab-4cba-ef10-202a5b7ba83c"
   },
   "outputs": [
    {
     "data": {
      "text/plain": [
       "array(['Iris-setosa', 'Iris-versicolor', 'Iris-virginica'], dtype=object)"
      ]
     },
     "execution_count": 17,
     "metadata": {},
     "output_type": "execute_result"
    }
   ],
   "source": [
    "le.classes_"
   ]
  },
  {
   "cell_type": "code",
   "execution_count": 18,
   "metadata": {
    "colab": {
     "base_uri": "https://localhost:8080/",
     "height": 1000
    },
    "id": "OdxNmaxphB7A",
    "outputId": "237a380f-2ecd-4d66-8894-d256f142a588"
   },
   "outputs": [
    {
     "name": "stdout",
     "output_type": "stream",
     "text": [
      "[[1.4 0.2]\n",
      " [1.3 0.2]\n",
      " [1.5 0.2]\n",
      " [1.4 0.2]\n",
      " [1.7 0.4]\n",
      " [1.4 0.3]\n",
      " [1.5 0.2]\n",
      " [1.4 0.2]\n",
      " [1.5 0.1]\n",
      " [1.5 0.2]\n",
      " [1.6 0.2]\n",
      " [1.4 0.1]\n",
      " [1.1 0.1]\n",
      " [1.2 0.2]\n",
      " [1.5 0.4]\n",
      " [1.3 0.4]\n",
      " [1.4 0.3]\n",
      " [1.7 0.3]\n",
      " [1.5 0.3]\n",
      " [1.7 0.2]\n",
      " [1.5 0.4]\n",
      " [1.  0.2]\n",
      " [1.7 0.5]\n",
      " [1.9 0.2]\n",
      " [1.6 0.2]\n",
      " [1.6 0.4]\n",
      " [1.5 0.2]\n",
      " [1.4 0.2]\n",
      " [1.6 0.2]\n",
      " [1.6 0.2]\n",
      " [1.5 0.4]\n",
      " [1.5 0.1]\n",
      " [1.4 0.2]\n",
      " [1.5 0.1]\n",
      " [1.2 0.2]\n",
      " [1.3 0.2]\n",
      " [1.5 0.1]\n",
      " [1.3 0.2]\n",
      " [1.5 0.2]\n",
      " [1.3 0.3]\n",
      " [1.3 0.3]\n",
      " [1.3 0.2]\n",
      " [1.6 0.6]\n",
      " [1.9 0.4]\n",
      " [1.4 0.3]\n",
      " [1.6 0.2]\n",
      " [1.4 0.2]\n",
      " [1.5 0.2]\n",
      " [1.4 0.2]\n",
      " [4.7 1.4]\n",
      " [4.5 1.5]\n",
      " [4.9 1.5]\n",
      " [4.  1.3]\n",
      " [4.6 1.5]\n",
      " [4.5 1.3]\n",
      " [4.7 1.6]\n",
      " [3.3 1. ]\n",
      " [4.6 1.3]\n",
      " [3.9 1.4]\n",
      " [3.5 1. ]\n",
      " [4.2 1.5]\n",
      " [4.  1. ]\n",
      " [4.7 1.4]\n",
      " [3.6 1.3]\n",
      " [4.4 1.4]\n",
      " [4.5 1.5]\n",
      " [4.1 1. ]\n",
      " [4.5 1.5]\n",
      " [3.9 1.1]\n",
      " [4.8 1.8]\n",
      " [4.  1.3]\n",
      " [4.9 1.5]\n",
      " [4.7 1.2]\n",
      " [4.3 1.3]\n",
      " [4.4 1.4]\n",
      " [4.8 1.4]\n",
      " [5.  1.7]\n",
      " [4.5 1.5]\n",
      " [3.5 1. ]\n",
      " [3.8 1.1]\n",
      " [3.7 1. ]\n",
      " [3.9 1.2]\n",
      " [5.1 1.6]\n",
      " [4.5 1.5]\n",
      " [4.5 1.6]\n",
      " [4.7 1.5]\n",
      " [4.4 1.3]\n",
      " [4.1 1.3]\n",
      " [4.  1.3]\n",
      " [4.4 1.2]\n",
      " [4.6 1.4]\n",
      " [4.  1.2]\n",
      " [3.3 1. ]\n",
      " [4.2 1.3]\n",
      " [4.2 1.2]\n",
      " [4.2 1.3]\n",
      " [4.3 1.3]\n",
      " [3.  1.1]\n",
      " [4.1 1.3]\n",
      " [6.  2.5]\n",
      " [5.1 1.9]\n",
      " [5.9 2.1]\n",
      " [5.6 1.8]\n",
      " [5.8 2.2]\n",
      " [6.6 2.1]\n",
      " [4.5 1.7]\n",
      " [6.3 1.8]\n",
      " [5.8 1.8]\n",
      " [6.1 2.5]\n",
      " [5.1 2. ]\n",
      " [5.3 1.9]\n",
      " [5.5 2.1]\n",
      " [5.  2. ]\n",
      " [5.1 2.4]\n",
      " [5.3 2.3]\n",
      " [5.5 1.8]\n",
      " [6.7 2.2]\n",
      " [6.9 2.3]\n",
      " [5.  1.5]\n",
      " [5.7 2.3]\n",
      " [4.9 2. ]\n",
      " [6.7 2. ]\n",
      " [4.9 1.8]\n",
      " [5.7 2.1]\n",
      " [6.  1.8]\n",
      " [4.8 1.8]\n",
      " [4.9 1.8]\n",
      " [5.6 2.1]\n",
      " [5.8 1.6]\n",
      " [6.1 1.9]\n",
      " [6.4 2. ]\n",
      " [5.6 2.2]\n",
      " [5.1 1.5]\n",
      " [5.6 1.4]\n",
      " [6.1 2.3]\n",
      " [5.6 2.4]\n",
      " [5.5 1.8]\n",
      " [4.8 1.8]\n",
      " [5.4 2.1]\n",
      " [5.6 2.4]\n",
      " [5.1 2.3]\n",
      " [5.1 1.9]\n",
      " [5.9 2.3]\n",
      " [5.7 2.5]\n",
      " [5.2 2.3]\n",
      " [5.  1.9]\n",
      " [5.2 2. ]\n",
      " [5.4 2.3]\n",
      " [5.1 1.8]]\n"
     ]
    }
   ],
   "source": [
    "X = df.iloc[:,[2,3]].values\n",
    "print(X)"
   ]
  },
  {
   "cell_type": "code",
   "execution_count": 19,
   "metadata": {
    "colab": {
     "base_uri": "https://localhost:8080/",
     "height": 35
    },
    "id": "aEBRYo0PhB7C",
    "outputId": "a64f9e39-0435-4c2a-caa3-02af881cfa1a"
   },
   "outputs": [
    {
     "data": {
      "text/plain": [
       "((149, 2), (149,))"
      ]
     },
     "execution_count": 19,
     "metadata": {},
     "output_type": "execute_result"
    }
   ],
   "source": [
    "X.shape, y.shape"
   ]
  },
  {
   "cell_type": "code",
   "execution_count": 20,
   "metadata": {
    "id": "mth7CThvhB7F"
   },
   "outputs": [],
   "source": [
    "from sklearn.model_selection import train_test_split\n",
    "X_train, X_test, y_train, y_test = train_test_split(X, y, test_size=0.2, random_state=1, stratify=y)"
   ]
  },
  {
   "cell_type": "code",
   "execution_count": 21,
   "metadata": {
    "colab": {
     "base_uri": "https://localhost:8080/",
     "height": 35
    },
    "id": "qrf2_uNDhB7J",
    "outputId": "7a210441-b908-4bb0-8952-ea38a824c243"
   },
   "outputs": [
    {
     "data": {
      "text/plain": [
       "((119, 2), (119,), (30, 2), (30,))"
      ]
     },
     "execution_count": 21,
     "metadata": {},
     "output_type": "execute_result"
    }
   ],
   "source": [
    "X_train.shape, y_train.shape, X_test.shape, y_test.shape"
   ]
  },
  {
   "cell_type": "code",
   "execution_count": 22,
   "metadata": {
    "id": "vNebtOQIhB7M"
   },
   "outputs": [],
   "source": [
    "from sklearn.preprocessing import StandardScaler\n",
    "\n",
    "sc = StandardScaler()\n",
    "sc.fit(X_train)\n",
    "X_train_std = sc.transform(X_train)\n",
    "X_test_std = sc.transform(X_test)"
   ]
  },
  {
   "cell_type": "code",
   "execution_count": 23,
   "metadata": {
    "colab": {
     "base_uri": "https://localhost:8080/",
     "height": 1000
    },
    "id": "2TYcqfg5hB7P",
    "outputId": "1f8e8e7e-b064-4f4c-abe6-26b783aaf2ad"
   },
   "outputs": [
    {
     "data": {
      "text/plain": [
       "array([[-1.59174313, -1.32819288],\n",
       "       [-1.30911491, -1.32819288],\n",
       "       [ 0.72580827,  1.41945116],\n",
       "       [ 0.3866544 ,  0.37272962],\n",
       "       [-0.12207639,  0.11104924],\n",
       "       [ 0.49970569,  0.37272962],\n",
       "       [ 0.55623134,  0.7652502 ],\n",
       "       [ 0.66928262,  0.37272962],\n",
       "       [ 0.95191084,  0.7652502 ],\n",
       "       [ 0.21707747, -0.01979095],\n",
       "       [ 1.06496213,  1.68113155],\n",
       "       [-1.4221662 , -1.32819288],\n",
       "       [ 0.3866544 ,  0.37272962],\n",
       "       [ 0.66928262,  0.63441001],\n",
       "       [ 1.00843649,  0.7652502 ],\n",
       "       [-1.25258927, -1.32819288],\n",
       "       [ 1.12148777,  0.7652502 ],\n",
       "       [ 0.44318005,  0.11104924],\n",
       "       [ 0.21707747,  0.11104924],\n",
       "       [-1.36564055, -1.32819288],\n",
       "       [-1.30911491, -1.32819288],\n",
       "       [ 0.04750054, -0.15063115],\n",
       "       [ 0.49970569,  0.24188943],\n",
       "       [ 0.61275698,  0.7652502 ],\n",
       "       [ 0.72580827,  0.89609039],\n",
       "       [ 1.00843649,  1.28861097],\n",
       "       [-1.30911491, -1.32819288],\n",
       "       [-1.25258927, -1.32819288],\n",
       "       [ 1.00843649,  1.55029135],\n",
       "       [-1.4221662 , -1.19735268],\n",
       "       [-1.30911491, -1.45903307],\n",
       "       [-1.30911491, -1.06651249],\n",
       "       [ 0.16055183, -0.28147134],\n",
       "       [ 1.29106471,  1.41945116],\n",
       "       [-1.30911491, -1.06651249],\n",
       "       [-0.06555075, -0.28147134],\n",
       "       [-0.29165332, -0.28147134],\n",
       "       [ 0.78233391,  1.41945116],\n",
       "       [ 0.66928262,  0.89609039],\n",
       "       [-0.17860203, -0.28147134],\n",
       "       [ 0.44318005,  0.24188943],\n",
       "       [ 0.95191084,  0.7652502 ],\n",
       "       [ 1.29106471,  1.68113155],\n",
       "       [ 1.12148777,  1.28861097],\n",
       "       [ 0.33012876,  0.11104924],\n",
       "       [ 0.72580827,  1.02693058],\n",
       "       [ 0.04750054, -0.01979095],\n",
       "       [ 0.55623134,  0.7652502 ],\n",
       "       [-1.36564055, -1.32819288],\n",
       "       [ 1.23453906,  1.68113155],\n",
       "       [-1.25258927, -1.32819288],\n",
       "       [ 0.72580827,  1.55029135],\n",
       "       [-1.36564055, -1.19735268],\n",
       "       [-1.19606362, -0.9356723 ],\n",
       "       [ 0.49970569, -0.01979095],\n",
       "       [-1.47869184, -1.32819288],\n",
       "       [-0.0090251 , -0.15063115],\n",
       "       [ 1.29106471,  0.89609039],\n",
       "       [-1.47869184, -1.32819288],\n",
       "       [ 1.06496213,  1.41945116],\n",
       "       [-1.4221662 , -1.19735268],\n",
       "       [-1.30911491, -1.19735268],\n",
       "       [ 0.55623134,  0.7652502 ],\n",
       "       [ 1.17801342,  1.41945116],\n",
       "       [-1.25258927, -1.06651249],\n",
       "       [ 0.72580827,  0.50356982],\n",
       "       [-1.25258927, -1.32819288],\n",
       "       [-1.36564055, -1.32819288],\n",
       "       [ 0.10402618, -0.01979095],\n",
       "       [ 1.12148777,  0.50356982],\n",
       "       [ 0.61275698,  0.37272962],\n",
       "       [ 0.33012876,  0.24188943],\n",
       "       [-1.30911491, -1.06651249],\n",
       "       [-1.4221662 , -1.32819288],\n",
       "       [ 0.3866544 ,  0.37272962],\n",
       "       [ 0.83885955,  1.41945116],\n",
       "       [ 0.21707747,  0.11104924],\n",
       "       [ 0.33012876, -0.01979095],\n",
       "       [ 1.06496213,  1.15777078],\n",
       "       [ 0.3866544 ,  0.37272962],\n",
       "       [ 1.46064164,  1.02693058],\n",
       "       [-1.30911491, -1.32819288],\n",
       "       [ 0.3866544 ,  0.50356982],\n",
       "       [ 1.00843649,  1.15777078],\n",
       "       [ 0.16055183,  0.11104924],\n",
       "       [ 0.04750054,  0.24188943],\n",
       "       [-1.30911491, -1.45903307],\n",
       "       [-1.08301234, -1.32819288],\n",
       "       [ 0.72580827,  0.7652502 ],\n",
       "       [ 0.27360312,  0.11104924],\n",
       "       [ 1.63021857,  1.28861097],\n",
       "       [ 0.33012876,  0.24188943],\n",
       "       [-1.36564055, -1.32819288],\n",
       "       [ 0.21707747,  0.37272962],\n",
       "       [ 1.74326986,  1.41945116],\n",
       "       [ 1.23453906,  0.7652502 ],\n",
       "       [-1.19606362, -1.32819288],\n",
       "       [-1.19606362, -1.06651249],\n",
       "       [ 1.57369292,  1.15777078],\n",
       "       [ 0.8953852 ,  1.15777078],\n",
       "       [-1.19606362, -1.19735268],\n",
       "       [ 1.63021857,  1.02693058],\n",
       "       [ 0.61275698,  0.37272962],\n",
       "       [ 0.3866544 ,  0.11104924],\n",
       "       [-0.17860203, -0.28147134],\n",
       "       [ 0.72580827,  0.89609039],\n",
       "       [-1.36564055, -1.32819288],\n",
       "       [ 1.00843649,  0.24188943],\n",
       "       [ 0.16055183,  0.11104924],\n",
       "       [ 1.00843649,  1.55029135],\n",
       "       [-1.30911491, -1.45903307],\n",
       "       [ 0.72580827,  0.37272962],\n",
       "       [-1.25258927, -1.32819288],\n",
       "       [ 0.10402618,  0.11104924],\n",
       "       [-1.4221662 , -1.32819288],\n",
       "       [ 0.49970569,  0.24188943],\n",
       "       [-1.30911491, -1.32819288],\n",
       "       [-1.36564055, -1.32819288],\n",
       "       [-1.25258927, -0.80483211]])"
      ]
     },
     "execution_count": 23,
     "metadata": {},
     "output_type": "execute_result"
    }
   ],
   "source": [
    "X_train_std"
   ]
  },
  {
   "cell_type": "code",
   "execution_count": 24,
   "metadata": {
    "colab": {
     "base_uri": "https://localhost:8080/",
     "height": 563
    },
    "id": "oToQ9Q-UhB7T",
    "outputId": "7ee4d4f1-2623-4d49-941a-26d0ee119595"
   },
   "outputs": [
    {
     "data": {
      "text/plain": [
       "array([[ 1.40411599,  0.7652502 ],\n",
       "       [-1.36564055, -1.45903307],\n",
       "       [-0.46123025, -0.15063115],\n",
       "       [-1.36564055, -1.19735268],\n",
       "       [-1.53521749, -1.45903307],\n",
       "       [-1.36564055, -1.19735268],\n",
       "       [ 0.8953852 ,  1.41945116],\n",
       "       [ 0.83885955,  0.89609039],\n",
       "       [ 0.61275698,  1.02693058],\n",
       "       [ 0.55623134,  0.24188943],\n",
       "       [-1.4221662 , -1.32819288],\n",
       "       [ 0.10402618,  0.11104924],\n",
       "       [ 0.95191084,  1.15777078],\n",
       "       [ 0.10402618, -0.28147134],\n",
       "       [ 0.66928262,  1.02693058],\n",
       "       [-1.36564055, -1.32819288],\n",
       "       [ 1.17801342,  1.15777078],\n",
       "       [ 0.10402618,  0.11104924],\n",
       "       [-0.29165332, -0.28147134],\n",
       "       [ 0.61275698,  0.7652502 ],\n",
       "       [ 0.27360312,  0.11104924],\n",
       "       [ 0.3866544 ,  0.37272962],\n",
       "       [-1.08301234, -1.06651249],\n",
       "       [-1.30911491, -1.32819288],\n",
       "       [ 0.78233391,  1.02693058],\n",
       "       [ 0.3866544 ,  0.63441001],\n",
       "       [-1.4221662 , -1.06651249],\n",
       "       [-1.30911491, -1.45903307],\n",
       "       [ 0.49970569,  0.50356982],\n",
       "       [ 0.44318005,  0.37272962]])"
      ]
     },
     "execution_count": 24,
     "metadata": {},
     "output_type": "execute_result"
    }
   ],
   "source": [
    "X_test_std"
   ]
  },
  {
   "cell_type": "code",
   "execution_count": 25,
   "metadata": {
    "colab": {
     "base_uri": "https://localhost:8080/",
     "height": 90
    },
    "id": "Xgxbi42ThB7V",
    "outputId": "10976171-c084-49c4-d2c5-693c873b7688"
   },
   "outputs": [
    {
     "data": {
      "text/plain": [
       "SVC(gamma=0.1, random_state=0)"
      ]
     },
     "execution_count": 25,
     "metadata": {},
     "output_type": "execute_result"
    }
   ],
   "source": [
    "#Applying SVC (Support Vector Classification)\n",
    "from sklearn.svm import SVC\n",
    "\n",
    "svm = SVC(kernel='rbf', random_state=0, gamma=.10, C=1.0)\n",
    "svm.fit(X_train_std, y_train)\n"
   ]
  },
  {
   "cell_type": "code",
   "execution_count": 31,
   "metadata": {
    "id": "gT66uQONhB7Y"
   },
   "outputs": [],
   "source": [
    "#Applying XGBoost\n",
    "import xgboost as xgb\n",
    "\n",
    "xgb_clf = xgb.XGBClassifier()\n",
    "xgb_clf = xgb_clf.fit(X_train_std, y_train)\n",
    "\n"
   ]
  },
  {
   "cell_type": "code",
   "execution_count": 32,
   "metadata": {
    "colab": {
     "base_uri": "https://localhost:8080/",
     "height": 72
    },
    "id": "52EncJJxhB7b",
    "outputId": "9a036361-13cd-49d4-aaa8-509090a40f80"
   },
   "outputs": [
    {
     "data": {
      "text/plain": [
       "KNeighborsClassifier(n_neighbors=7)"
      ]
     },
     "execution_count": 32,
     "metadata": {},
     "output_type": "execute_result"
    }
   ],
   "source": [
    "#Applying Knn\n",
    "from sklearn.neighbors import KNeighborsClassifier\n",
    "\n",
    "knn = KNeighborsClassifier(n_neighbors = 7, p = 2, metric='minkowski')\n",
    "knn.fit(X_train_std, y_train)\n",
    "\n"
   ]
  },
  {
   "cell_type": "code",
   "execution_count": 33,
   "metadata": {
    "colab": {
     "base_uri": "https://localhost:8080/",
     "height": 126
    },
    "id": "yd-en9B9hB7d",
    "outputId": "1e10faa7-6a3b-4164-f56e-d3ff7ac21d66"
   },
   "outputs": [
    {
     "data": {
      "text/plain": [
       "DecisionTreeClassifier()"
      ]
     },
     "execution_count": 33,
     "metadata": {},
     "output_type": "execute_result"
    }
   ],
   "source": [
    "#Applying Decision Tree\n",
    "from sklearn import tree\n",
    "\n",
    "#Create tree object\n",
    "decision_tree = tree.DecisionTreeClassifier(criterion='gini')\n",
    "\n",
    "#Train DT based on scaled training set\n",
    "decision_tree.fit(X_train_std, y_train)\n",
    "\n",
    "\n"
   ]
  },
  {
   "cell_type": "code",
   "execution_count": 34,
   "metadata": {
    "colab": {
     "base_uri": "https://localhost:8080/",
     "height": 163
    },
    "id": "Kd10BRnuhB7g",
    "outputId": "55054288-2c19-4557-fc96-6df0af727deb"
   },
   "outputs": [
    {
     "data": {
      "text/plain": [
       "RandomForestClassifier()"
      ]
     },
     "execution_count": 34,
     "metadata": {},
     "output_type": "execute_result"
    }
   ],
   "source": [
    "#Applying RandomForest\n",
    "from sklearn.ensemble import RandomForestClassifier\n",
    "\n",
    "#Create Random Forest object\n",
    "random_forest = RandomForestClassifier()\n",
    "\n",
    "#Train model\n",
    "random_forest.fit(X_train_std, y_train)\n",
    "\n",
    "\n"
   ]
  },
  {
   "cell_type": "code",
   "execution_count": 35,
   "metadata": {
    "colab": {
     "base_uri": "https://localhost:8080/",
     "height": 563
    },
    "id": "97L2d8WohB7j",
    "outputId": "12c19109-7451-4c7f-af02-18782e310b99"
   },
   "outputs": [
    {
     "name": "stdout",
     "output_type": "stream",
     "text": [
      "The accuracy of the performance \n",
      "\n",
      "\n",
      "+++++++++++++++++++++++++++++++++++++++++++++++++++++++\n",
      "\n",
      "The accuracy of the SVM classifier on training data is 0.96\n",
      "The accuracy of the SVM classifier on test data is 0.97\n",
      "\n",
      "+++++++++++++++++++++++++++++++++++++++++++++++++++++++\n",
      "\n",
      "The accuracy of the XGBoost classifier on training data is 0.99\n",
      "The accuracy of the XGBoost classifier on test data is 0.97\n",
      "\n",
      "+++++++++++++++++++++++++++++++++++++++++++++++++++++++\n",
      "\n",
      "The accuracy of the Knn classifier on training data is 0.97\n",
      "The accuracy of the Knn classifier on test data is 0.97\n",
      "\n",
      "+++++++++++++++++++++++++++++++++++++++++++++++++++++++\n",
      "\n",
      "The accuracy of the Decision Tree classifier on training data is 0.99\n",
      "The accuracy of the Decision Tree classifier on test data is 0.97\n",
      "\n",
      "+++++++++++++++++++++++++++++++++++++++++++++++++++++++\n",
      "\n",
      "The accuracy of the Random Forest classifier on training data is 0.99\n",
      "The accuracy of the Random Forest classifier on test data is 0.97\n",
      "\n",
      "+++++++++++++++++++++++++++++++++++++++++++++++++++++++\n",
      "\n"
     ]
    }
   ],
   "source": [
    "#Print performance\n",
    "print ('The accuracy of the performance ')\n",
    "print('')\n",
    "print('')\n",
    "print('+++++++++++++++++++++++++++++++++++++++++++++++++++++++')\n",
    "print('')\n",
    "print('The accuracy of the SVM classifier on training data is {:.2f}'.format(svm.score(X_train_std, y_train)))\n",
    "print('The accuracy of the SVM classifier on test data is {:.2f}'.format(svm.score(X_test_std, y_test)))\n",
    "print('')\n",
    "print('+++++++++++++++++++++++++++++++++++++++++++++++++++++++')\n",
    "print('')\n",
    "print('The accuracy of the XGBoost classifier on training data is {:.2f}'.format(xgb_clf.score(X_train_std, y_train)))\n",
    "print('The accuracy of the XGBoost classifier on test data is {:.2f}'.format(xgb_clf.score(X_test_std, y_test)))\n",
    "print('')\n",
    "print('+++++++++++++++++++++++++++++++++++++++++++++++++++++++')\n",
    "print('')\n",
    "print('The accuracy of the Knn classifier on training data is {:.2f}'.format(knn.score(X_train_std, y_train)))\n",
    "print('The accuracy of the Knn classifier on test data is {:.2f}'.format(knn.score(X_test_std, y_test)))\n",
    "print('')\n",
    "print('+++++++++++++++++++++++++++++++++++++++++++++++++++++++')\n",
    "print('')\n",
    "print('The accuracy of the Decision Tree classifier on training data is {:.2f}'.format(decision_tree.score(X_train_std, y_train)))\n",
    "print('The accuracy of the Decision Tree classifier on test data is {:.2f}'.format(decision_tree.score(X_test_std, y_test)))\n",
    "print('')\n",
    "print('+++++++++++++++++++++++++++++++++++++++++++++++++++++++')\n",
    "print('')\n",
    "print('The accuracy of the Random Forest classifier on training data is {:.2f}'.format(random_forest.score(X_train_std, y_train)))\n",
    "print('The accuracy of the Random Forest classifier on test data is {:.2f}'.format(random_forest.score(X_test_std, y_test)))\n",
    "print('')\n",
    "print('+++++++++++++++++++++++++++++++++++++++++++++++++++++++')\n",
    "print('')"
   ]
  },
  {
   "cell_type": "code",
   "execution_count": null,
   "metadata": {
    "id": "Johy3avLjHVc"
   },
   "outputs": [],
   "source": [
    "#Deep learning "
   ]
  },
  {
   "cell_type": "code",
   "execution_count": 77,
   "metadata": {
    "id": "shp0sgN9lIkB"
   },
   "outputs": [],
   "source": [
    "df2 = pd.read_csv('/content/iris.data.csv',header=None, skiprows=1, names=['SepalLengthCm','SepalWidthCm','PetalLengthCm','PetalWidthCm','Species'])"
   ]
  },
  {
   "cell_type": "code",
   "execution_count": 78,
   "metadata": {
    "colab": {
     "base_uri": "https://localhost:8080/",
     "height": 407
    },
    "id": "RPv6qXWTlInS",
    "outputId": "69e20743-0718-4d26-d12e-dbcf59e381b2"
   },
   "outputs": [
    {
     "data": {
      "text/html": [
       "<div>\n",
       "<style scoped>\n",
       "    .dataframe tbody tr th:only-of-type {\n",
       "        vertical-align: middle;\n",
       "    }\n",
       "\n",
       "    .dataframe tbody tr th {\n",
       "        vertical-align: top;\n",
       "    }\n",
       "\n",
       "    .dataframe thead th {\n",
       "        text-align: right;\n",
       "    }\n",
       "</style>\n",
       "<table border=\"1\" class=\"dataframe\">\n",
       "  <thead>\n",
       "    <tr style=\"text-align: right;\">\n",
       "      <th></th>\n",
       "      <th>SepalLengthCm</th>\n",
       "      <th>SepalWidthCm</th>\n",
       "      <th>PetalLengthCm</th>\n",
       "      <th>PetalWidthCm</th>\n",
       "      <th>Species</th>\n",
       "    </tr>\n",
       "  </thead>\n",
       "  <tbody>\n",
       "    <tr>\n",
       "      <th>0</th>\n",
       "      <td>4.9</td>\n",
       "      <td>3.0</td>\n",
       "      <td>1.4</td>\n",
       "      <td>0.2</td>\n",
       "      <td>Iris-setosa</td>\n",
       "    </tr>\n",
       "    <tr>\n",
       "      <th>1</th>\n",
       "      <td>4.7</td>\n",
       "      <td>3.2</td>\n",
       "      <td>1.3</td>\n",
       "      <td>0.2</td>\n",
       "      <td>Iris-setosa</td>\n",
       "    </tr>\n",
       "    <tr>\n",
       "      <th>2</th>\n",
       "      <td>4.6</td>\n",
       "      <td>3.1</td>\n",
       "      <td>1.5</td>\n",
       "      <td>0.2</td>\n",
       "      <td>Iris-setosa</td>\n",
       "    </tr>\n",
       "    <tr>\n",
       "      <th>3</th>\n",
       "      <td>5.0</td>\n",
       "      <td>3.6</td>\n",
       "      <td>1.4</td>\n",
       "      <td>0.2</td>\n",
       "      <td>Iris-setosa</td>\n",
       "    </tr>\n",
       "    <tr>\n",
       "      <th>4</th>\n",
       "      <td>5.4</td>\n",
       "      <td>3.9</td>\n",
       "      <td>1.7</td>\n",
       "      <td>0.4</td>\n",
       "      <td>Iris-setosa</td>\n",
       "    </tr>\n",
       "    <tr>\n",
       "      <th>...</th>\n",
       "      <td>...</td>\n",
       "      <td>...</td>\n",
       "      <td>...</td>\n",
       "      <td>...</td>\n",
       "      <td>...</td>\n",
       "    </tr>\n",
       "    <tr>\n",
       "      <th>144</th>\n",
       "      <td>6.7</td>\n",
       "      <td>3.0</td>\n",
       "      <td>5.2</td>\n",
       "      <td>2.3</td>\n",
       "      <td>Iris-virginica</td>\n",
       "    </tr>\n",
       "    <tr>\n",
       "      <th>145</th>\n",
       "      <td>6.3</td>\n",
       "      <td>2.5</td>\n",
       "      <td>5.0</td>\n",
       "      <td>1.9</td>\n",
       "      <td>Iris-virginica</td>\n",
       "    </tr>\n",
       "    <tr>\n",
       "      <th>146</th>\n",
       "      <td>6.5</td>\n",
       "      <td>3.0</td>\n",
       "      <td>5.2</td>\n",
       "      <td>2.0</td>\n",
       "      <td>Iris-virginica</td>\n",
       "    </tr>\n",
       "    <tr>\n",
       "      <th>147</th>\n",
       "      <td>6.2</td>\n",
       "      <td>3.4</td>\n",
       "      <td>5.4</td>\n",
       "      <td>2.3</td>\n",
       "      <td>Iris-virginica</td>\n",
       "    </tr>\n",
       "    <tr>\n",
       "      <th>148</th>\n",
       "      <td>5.9</td>\n",
       "      <td>3.0</td>\n",
       "      <td>5.1</td>\n",
       "      <td>1.8</td>\n",
       "      <td>Iris-virginica</td>\n",
       "    </tr>\n",
       "  </tbody>\n",
       "</table>\n",
       "<p>149 rows × 5 columns</p>\n",
       "</div>"
      ],
      "text/plain": [
       "     SepalLengthCm  SepalWidthCm  PetalLengthCm  PetalWidthCm         Species\n",
       "0              4.9           3.0            1.4           0.2     Iris-setosa\n",
       "1              4.7           3.2            1.3           0.2     Iris-setosa\n",
       "2              4.6           3.1            1.5           0.2     Iris-setosa\n",
       "3              5.0           3.6            1.4           0.2     Iris-setosa\n",
       "4              5.4           3.9            1.7           0.4     Iris-setosa\n",
       "..             ...           ...            ...           ...             ...\n",
       "144            6.7           3.0            5.2           2.3  Iris-virginica\n",
       "145            6.3           2.5            5.0           1.9  Iris-virginica\n",
       "146            6.5           3.0            5.2           2.0  Iris-virginica\n",
       "147            6.2           3.4            5.4           2.3  Iris-virginica\n",
       "148            5.9           3.0            5.1           1.8  Iris-virginica\n",
       "\n",
       "[149 rows x 5 columns]"
      ]
     },
     "execution_count": 78,
     "metadata": {
      "tags": []
     },
     "output_type": "execute_result"
    }
   ],
   "source": [
    "df2"
   ]
  },
  {
   "cell_type": "code",
   "execution_count": 79,
   "metadata": {
    "colab": {
     "base_uri": "https://localhost:8080/",
     "height": 72
    },
    "id": "jHCaTqhQlIqC",
    "outputId": "81231898-a877-4f59-eec9-f2f06c03d00d"
   },
   "outputs": [
    {
     "data": {
      "text/plain": [
       "Index(['SepalLengthCm', 'SepalWidthCm', 'PetalLengthCm', 'PetalWidthCm',\n",
       "       'Species'],\n",
       "      dtype='object')"
      ]
     },
     "execution_count": 79,
     "metadata": {
      "tags": []
     },
     "output_type": "execute_result"
    }
   ],
   "source": [
    "df2.columns"
   ]
  },
  {
   "cell_type": "code",
   "execution_count": 80,
   "metadata": {
    "colab": {
     "base_uri": "https://localhost:8080/",
     "height": 35
    },
    "id": "10t9zWYElIuV",
    "outputId": "4cb0122b-126e-4158-928e-222b9c1ec101"
   },
   "outputs": [
    {
     "data": {
      "text/plain": [
       "array(['Iris-setosa', 'Iris-versicolor', 'Iris-virginica'], dtype=object)"
      ]
     },
     "execution_count": 80,
     "metadata": {
      "tags": []
     },
     "output_type": "execute_result"
    }
   ],
   "source": [
    "df2['Species'].unique()"
   ]
  },
  {
   "cell_type": "code",
   "execution_count": 81,
   "metadata": {
    "colab": {
     "base_uri": "https://localhost:8080/",
     "height": 726
    },
    "id": "hkqDtl0ylIsp",
    "outputId": "4cfde187-afd7-4e3f-a6b6-c3b948d7f799"
   },
   "outputs": [
    {
     "data": {
      "image/png": "[encoded data removed]",
      "text/plain": [
       "<Figure size 823.25x720 with 20 Axes>"
      ]
     },
     "metadata": {
      "needs_background": "light",
      "tags": []
     },
     "output_type": "display_data"
    }
   ],
   "source": [
    "sns.pairplot(data=df2[df2.columns[0:6]], hue='Species')\n",
    "plt.show()"
   ]
  },
  {
   "cell_type": "code",
   "execution_count": null,
   "metadata": {
    "id": "gdrLB3OsmiUj"
   },
   "outputs": [],
   "source": []
  },
  {
   "cell_type": "code",
   "execution_count": null,
   "metadata": {
    "id": "z-n2YtzumiZO"
   },
   "outputs": [],
   "source": []
  },
  {
   "cell_type": "code",
   "execution_count": null,
   "metadata": {
    "id": "HU63SqZJmiX7"
   },
   "outputs": [],
   "source": []
  },
  {
   "cell_type": "code",
   "execution_count": 153,
   "metadata": {
    "id": "x11QZlxVjPFE"
   },
   "outputs": [],
   "source": [
    "import keras\n",
    "import tensorflow as tf\n",
    "\n",
    "\n",
    "from keras.models import Sequential\n",
    "from keras.layers import Dense\n",
    "\n",
    "from sklearn.preprocessing import StandardScaler, LabelBinarizer"
   ]
  },
  {
   "cell_type": "code",
   "execution_count": 154,
   "metadata": {
    "id": "nK0IX2rwjZ6A"
   },
   "outputs": [],
   "source": [
    "X = df2[['SepalLengthCm', 'SepalWidthCm', 'PetalLengthCm', 'PetalWidthCm']]\n",
    "y = df2['Species']\n",
    "\n",
    "X = StandardScaler().fit_transform(X)\n",
    "y = LabelBinarizer().fit_transform(y)"
   ]
  },
  {
   "cell_type": "code",
   "execution_count": 155,
   "metadata": {
    "id": "Gp7Jr1SbikLL"
   },
   "outputs": [],
   "source": [
    "#Dividing data into train set and test set. We will do it 90/10.\n",
    "from sklearn.model_selection import train_test_split\n",
    "x_train, x_test, y_train, y_test = train_test_split(X, y, test_size = 0.2, random_state = 101)"
   ]
  },
  {
   "cell_type": "code",
   "execution_count": 156,
   "metadata": {
    "colab": {
     "base_uri": "https://localhost:8080/",
     "height": 35
    },
    "id": "YchI8Y3Zjhue",
    "outputId": "fc024317-25f2-4e79-8fce-dc82f7df0151"
   },
   "outputs": [
    {
     "data": {
      "text/plain": [
       "<tensorflow.python.keras.callbacks.EarlyStopping at 0x7f7150923550>"
      ]
     },
     "execution_count": 156,
     "metadata": {
      "tags": []
     },
     "output_type": "execute_result"
    }
   ],
   "source": [
    "tf.keras.callbacks.EarlyStopping(\n",
    "    monitor='val_loss', min_delta=0, patience=20, verbose=1, mode='auto',\n",
    "    baseline=None, restore_best_weights=False\n",
    ")\n",
    "#early = EarlyStopping(monitor='val_loss', min_delta=0, patience=20, verbose=1, mode='auto',baseline=None, restore_best_weights=False)"
   ]
  },
  {
   "cell_type": "code",
   "execution_count": 157,
   "metadata": {
    "colab": {
     "base_uri": "https://localhost:8080/",
     "height": 1000
    },
    "id": "6P44bXgohB7r",
    "outputId": "ea3b065a-ec0b-477b-955b-43790df7c78c"
   },
   "outputs": [
    {
     "name": "stdout",
     "output_type": "stream",
     "text": [
      "Epoch 1/100\n",
      "4/4 [==============================] - 0s 37ms/step - loss: 1.1159 - accuracy: 0.3193 - val_loss: 1.0989 - val_accuracy: 0.4000\n",
      "Epoch 2/100\n",
      "4/4 [==============================] - 0s 5ms/step - loss: 1.1096 - accuracy: 0.3109 - val_loss: 1.0969 - val_accuracy: 0.4000\n",
      "Epoch 3/100\n",
      "4/4 [==============================] - 0s 5ms/step - loss: 1.1044 - accuracy: 0.3025 - val_loss: 1.0948 - val_accuracy: 0.4000\n",
      "Epoch 4/100\n",
      "4/4 [==============================] - 0s 5ms/step - loss: 1.0991 - accuracy: 0.3025 - val_loss: 1.0925 - val_accuracy: 0.4333\n",
      "Epoch 5/100\n",
      "4/4 [==============================] - 0s 5ms/step - loss: 1.0941 - accuracy: 0.3193 - val_loss: 1.0900 - val_accuracy: 0.4667\n",
      "Epoch 6/100\n",
      "4/4 [==============================] - 0s 5ms/step - loss: 1.0896 - accuracy: 0.3277 - val_loss: 1.0877 - val_accuracy: 0.5000\n",
      "Epoch 7/100\n",
      "4/4 [==============================] - 0s 5ms/step - loss: 1.0853 - accuracy: 0.3445 - val_loss: 1.0849 - val_accuracy: 0.5000\n",
      "Epoch 8/100\n",
      "4/4 [==============================] - 0s 5ms/step - loss: 1.0810 - accuracy: 0.3445 - val_loss: 1.0817 - val_accuracy: 0.5667\n",
      "Epoch 9/100\n",
      "4/4 [==============================] - 0s 5ms/step - loss: 1.0770 - accuracy: 0.4622 - val_loss: 1.0782 - val_accuracy: 0.6000\n",
      "Epoch 10/100\n",
      "4/4 [==============================] - 0s 5ms/step - loss: 1.0721 - accuracy: 0.5294 - val_loss: 1.0746 - val_accuracy: 0.5667\n",
      "Epoch 11/100\n",
      "4/4 [==============================] - 0s 5ms/step - loss: 1.0667 - accuracy: 0.5966 - val_loss: 1.0704 - val_accuracy: 0.6667\n",
      "Epoch 12/100\n",
      "4/4 [==============================] - 0s 6ms/step - loss: 1.0600 - accuracy: 0.6471 - val_loss: 1.0655 - val_accuracy: 0.7000\n",
      "Epoch 13/100\n",
      "4/4 [==============================] - 0s 5ms/step - loss: 1.0526 - accuracy: 0.6723 - val_loss: 1.0601 - val_accuracy: 0.7000\n",
      "Epoch 14/100\n",
      "4/4 [==============================] - 0s 5ms/step - loss: 1.0437 - accuracy: 0.6891 - val_loss: 1.0538 - val_accuracy: 0.7333\n",
      "Epoch 15/100\n",
      "4/4 [==============================] - 0s 6ms/step - loss: 1.0331 - accuracy: 0.7059 - val_loss: 1.0465 - val_accuracy: 0.7000\n",
      "Epoch 16/100\n",
      "4/4 [==============================] - 0s 7ms/step - loss: 1.0215 - accuracy: 0.6975 - val_loss: 1.0373 - val_accuracy: 0.7333\n",
      "Epoch 17/100\n",
      "4/4 [==============================] - 0s 7ms/step - loss: 1.0065 - accuracy: 0.7311 - val_loss: 1.0264 - val_accuracy: 0.8000\n",
      "Epoch 18/100\n",
      "4/4 [==============================] - 0s 5ms/step - loss: 0.9904 - accuracy: 0.8067 - val_loss: 1.0141 - val_accuracy: 0.8000\n",
      "Epoch 19/100\n",
      "4/4 [==============================] - 0s 6ms/step - loss: 0.9735 - accuracy: 0.8151 - val_loss: 1.0006 - val_accuracy: 0.8000\n",
      "Epoch 20/100\n",
      "4/4 [==============================] - 0s 6ms/step - loss: 0.9539 - accuracy: 0.8235 - val_loss: 0.9861 - val_accuracy: 0.8000\n",
      "Epoch 21/100\n",
      "4/4 [==============================] - 0s 7ms/step - loss: 0.9334 - accuracy: 0.8235 - val_loss: 0.9711 - val_accuracy: 0.8000\n",
      "Epoch 22/100\n",
      "4/4 [==============================] - 0s 6ms/step - loss: 0.9121 - accuracy: 0.8067 - val_loss: 0.9554 - val_accuracy: 0.8000\n",
      "Epoch 23/100\n",
      "4/4 [==============================] - 0s 6ms/step - loss: 0.8924 - accuracy: 0.7983 - val_loss: 0.9395 - val_accuracy: 0.8000\n",
      "Epoch 24/100\n",
      "4/4 [==============================] - 0s 5ms/step - loss: 0.8700 - accuracy: 0.7983 - val_loss: 0.9237 - val_accuracy: 0.7667\n",
      "Epoch 25/100\n",
      "4/4 [==============================] - 0s 5ms/step - loss: 0.8501 - accuracy: 0.7983 - val_loss: 0.9088 - val_accuracy: 0.7667\n",
      "Epoch 26/100\n",
      "4/4 [==============================] - 0s 6ms/step - loss: 0.8301 - accuracy: 0.7983 - val_loss: 0.8943 - val_accuracy: 0.7667\n",
      "Epoch 27/100\n",
      "4/4 [==============================] - 0s 6ms/step - loss: 0.8129 - accuracy: 0.7983 - val_loss: 0.8799 - val_accuracy: 0.7667\n",
      "Epoch 28/100\n",
      "4/4 [==============================] - 0s 6ms/step - loss: 0.7948 - accuracy: 0.7983 - val_loss: 0.8660 - val_accuracy: 0.8000\n",
      "Epoch 29/100\n",
      "4/4 [==============================] - 0s 6ms/step - loss: 0.7787 - accuracy: 0.8067 - val_loss: 0.8524 - val_accuracy: 0.8333\n",
      "Epoch 30/100\n",
      "4/4 [==============================] - 0s 6ms/step - loss: 0.7635 - accuracy: 0.8235 - val_loss: 0.8392 - val_accuracy: 0.8333\n",
      "Epoch 31/100\n",
      "4/4 [==============================] - 0s 5ms/step - loss: 0.7485 - accuracy: 0.8235 - val_loss: 0.8264 - val_accuracy: 0.8000\n",
      "Epoch 32/100\n",
      "4/4 [==============================] - 0s 6ms/step - loss: 0.7355 - accuracy: 0.8235 - val_loss: 0.8135 - val_accuracy: 0.8000\n",
      "Epoch 33/100\n",
      "4/4 [==============================] - 0s 5ms/step - loss: 0.7219 - accuracy: 0.8319 - val_loss: 0.7997 - val_accuracy: 0.8000\n",
      "Epoch 34/100\n",
      "4/4 [==============================] - 0s 6ms/step - loss: 0.7097 - accuracy: 0.8571 - val_loss: 0.7846 - val_accuracy: 0.8000\n",
      "Epoch 35/100\n",
      "4/4 [==============================] - 0s 5ms/step - loss: 0.6949 - accuracy: 0.8571 - val_loss: 0.7705 - val_accuracy: 0.8000\n",
      "Epoch 36/100\n",
      "4/4 [==============================] - 0s 6ms/step - loss: 0.6798 - accuracy: 0.8571 - val_loss: 0.7575 - val_accuracy: 0.8000\n",
      "Epoch 37/100\n",
      "4/4 [==============================] - 0s 5ms/step - loss: 0.6665 - accuracy: 0.8655 - val_loss: 0.7438 - val_accuracy: 0.8333\n",
      "Epoch 38/100\n",
      "4/4 [==============================] - 0s 5ms/step - loss: 0.6515 - accuracy: 0.8655 - val_loss: 0.7305 - val_accuracy: 0.8667\n",
      "Epoch 39/100\n",
      "4/4 [==============================] - 0s 5ms/step - loss: 0.6363 - accuracy: 0.8739 - val_loss: 0.7165 - val_accuracy: 0.8667\n",
      "Epoch 40/100\n",
      "4/4 [==============================] - 0s 6ms/step - loss: 0.6211 - accuracy: 0.8908 - val_loss: 0.7027 - val_accuracy: 0.8333\n",
      "Epoch 41/100\n",
      "4/4 [==============================] - 0s 5ms/step - loss: 0.6061 - accuracy: 0.9244 - val_loss: 0.6906 - val_accuracy: 0.8333\n",
      "Epoch 42/100\n",
      "4/4 [==============================] - 0s 6ms/step - loss: 0.5916 - accuracy: 0.9244 - val_loss: 0.6785 - val_accuracy: 0.8333\n",
      "Epoch 43/100\n",
      "4/4 [==============================] - 0s 6ms/step - loss: 0.5764 - accuracy: 0.9496 - val_loss: 0.6670 - val_accuracy: 0.8333\n",
      "Epoch 44/100\n",
      "4/4 [==============================] - 0s 6ms/step - loss: 0.5612 - accuracy: 0.9496 - val_loss: 0.6560 - val_accuracy: 0.8333\n",
      "Epoch 45/100\n",
      "4/4 [==============================] - 0s 6ms/step - loss: 0.5477 - accuracy: 0.9496 - val_loss: 0.6463 - val_accuracy: 0.8333\n",
      "Epoch 46/100\n",
      "4/4 [==============================] - 0s 6ms/step - loss: 0.5327 - accuracy: 0.9412 - val_loss: 0.6384 - val_accuracy: 0.8667\n",
      "Epoch 47/100\n",
      "4/4 [==============================] - 0s 6ms/step - loss: 0.5196 - accuracy: 0.9412 - val_loss: 0.6298 - val_accuracy: 0.8667\n",
      "Epoch 48/100\n",
      "4/4 [==============================] - 0s 6ms/step - loss: 0.5064 - accuracy: 0.9412 - val_loss: 0.6220 - val_accuracy: 0.8667\n",
      "Epoch 49/100\n",
      "4/4 [==============================] - 0s 6ms/step - loss: 0.4942 - accuracy: 0.9496 - val_loss: 0.6157 - val_accuracy: 0.8667\n",
      "Epoch 50/100\n",
      "4/4 [==============================] - 0s 6ms/step - loss: 0.4833 - accuracy: 0.9580 - val_loss: 0.6107 - val_accuracy: 0.8667\n",
      "Epoch 51/100\n",
      "4/4 [==============================] - 0s 7ms/step - loss: 0.4711 - accuracy: 0.9580 - val_loss: 0.5992 - val_accuracy: 0.8667\n",
      "Epoch 52/100\n",
      "4/4 [==============================] - 0s 5ms/step - loss: 0.4599 - accuracy: 0.9412 - val_loss: 0.5900 - val_accuracy: 0.8667\n",
      "Epoch 53/100\n",
      "4/4 [==============================] - 0s 5ms/step - loss: 0.4494 - accuracy: 0.9412 - val_loss: 0.5861 - val_accuracy: 0.8667\n",
      "Epoch 54/100\n",
      "4/4 [==============================] - 0s 5ms/step - loss: 0.4394 - accuracy: 0.9496 - val_loss: 0.5801 - val_accuracy: 0.8667\n",
      "Epoch 55/100\n",
      "4/4 [==============================] - 0s 5ms/step - loss: 0.4296 - accuracy: 0.9496 - val_loss: 0.5749 - val_accuracy: 0.8667\n",
      "Epoch 56/100\n",
      "4/4 [==============================] - 0s 5ms/step - loss: 0.4221 - accuracy: 0.9664 - val_loss: 0.5733 - val_accuracy: 0.9000\n",
      "Epoch 57/100\n",
      "4/4 [==============================] - 0s 6ms/step - loss: 0.4131 - accuracy: 0.9580 - val_loss: 0.5607 - val_accuracy: 0.8667\n",
      "Epoch 58/100\n",
      "4/4 [==============================] - 0s 5ms/step - loss: 0.4037 - accuracy: 0.9580 - val_loss: 0.5577 - val_accuracy: 0.9000\n",
      "Epoch 59/100\n",
      "4/4 [==============================] - 0s 6ms/step - loss: 0.3966 - accuracy: 0.9580 - val_loss: 0.5553 - val_accuracy: 0.9000\n",
      "Epoch 60/100\n",
      "4/4 [==============================] - 0s 7ms/step - loss: 0.3871 - accuracy: 0.9580 - val_loss: 0.5431 - val_accuracy: 0.9000\n",
      "Epoch 61/100\n",
      "4/4 [==============================] - 0s 6ms/step - loss: 0.3791 - accuracy: 0.9580 - val_loss: 0.5354 - val_accuracy: 0.9000\n",
      "Epoch 62/100\n",
      "4/4 [==============================] - 0s 8ms/step - loss: 0.3713 - accuracy: 0.9580 - val_loss: 0.5324 - val_accuracy: 0.9000\n",
      "Epoch 63/100\n",
      "4/4 [==============================] - 0s 6ms/step - loss: 0.3615 - accuracy: 0.9664 - val_loss: 0.5264 - val_accuracy: 0.8667\n",
      "Epoch 64/100\n",
      "4/4 [==============================] - 0s 6ms/step - loss: 0.3539 - accuracy: 0.9664 - val_loss: 0.5240 - val_accuracy: 0.8667\n",
      "Epoch 65/100\n",
      "4/4 [==============================] - 0s 6ms/step - loss: 0.3424 - accuracy: 0.9664 - val_loss: 0.5104 - val_accuracy: 0.8667\n",
      "Epoch 66/100\n",
      "4/4 [==============================] - 0s 6ms/step - loss: 0.3322 - accuracy: 0.9664 - val_loss: 0.4972 - val_accuracy: 0.9000\n",
      "Epoch 67/100\n",
      "4/4 [==============================] - 0s 6ms/step - loss: 0.3209 - accuracy: 0.9664 - val_loss: 0.4898 - val_accuracy: 0.8667\n",
      "Epoch 68/100\n",
      "4/4 [==============================] - 0s 6ms/step - loss: 0.3095 - accuracy: 0.9664 - val_loss: 0.4866 - val_accuracy: 0.8667\n",
      "Epoch 69/100\n",
      "4/4 [==============================] - 0s 6ms/step - loss: 0.2950 - accuracy: 0.9748 - val_loss: 0.4730 - val_accuracy: 0.8667\n",
      "Epoch 70/100\n",
      "4/4 [==============================] - 0s 6ms/step - loss: 0.2831 - accuracy: 0.9664 - val_loss: 0.4528 - val_accuracy: 0.8667\n",
      "Epoch 71/100\n",
      "4/4 [==============================] - 0s 6ms/step - loss: 0.2678 - accuracy: 0.9748 - val_loss: 0.4411 - val_accuracy: 0.8667\n",
      "Epoch 72/100\n",
      "4/4 [==============================] - 0s 6ms/step - loss: 0.2523 - accuracy: 0.9748 - val_loss: 0.4363 - val_accuracy: 0.8667\n",
      "Epoch 73/100\n",
      "4/4 [==============================] - 0s 6ms/step - loss: 0.2375 - accuracy: 0.9748 - val_loss: 0.4330 - val_accuracy: 0.8667\n",
      "Epoch 74/100\n",
      "4/4 [==============================] - 0s 7ms/step - loss: 0.2211 - accuracy: 0.9748 - val_loss: 0.4093 - val_accuracy: 0.8667\n",
      "Epoch 75/100\n",
      "4/4 [==============================] - 0s 6ms/step - loss: 0.2029 - accuracy: 0.9832 - val_loss: 0.3918 - val_accuracy: 0.8667\n",
      "Epoch 76/100\n",
      "4/4 [==============================] - 0s 7ms/step - loss: 0.1868 - accuracy: 0.9748 - val_loss: 0.3731 - val_accuracy: 0.8667\n",
      "Epoch 77/100\n",
      "4/4 [==============================] - 0s 6ms/step - loss: 0.1714 - accuracy: 0.9748 - val_loss: 0.3567 - val_accuracy: 0.8667\n",
      "Epoch 78/100\n",
      "4/4 [==============================] - 0s 6ms/step - loss: 0.1544 - accuracy: 0.9748 - val_loss: 0.3539 - val_accuracy: 0.8667\n",
      "Epoch 79/100\n",
      "4/4 [==============================] - 0s 6ms/step - loss: 0.1399 - accuracy: 0.9832 - val_loss: 0.3458 - val_accuracy: 0.8667\n",
      "Epoch 80/100\n",
      "4/4 [==============================] - 0s 6ms/step - loss: 0.1263 - accuracy: 0.9832 - val_loss: 0.3407 - val_accuracy: 0.8667\n",
      "Epoch 81/100\n",
      "4/4 [==============================] - 0s 7ms/step - loss: 0.1148 - accuracy: 0.9832 - val_loss: 0.3266 - val_accuracy: 0.8667\n",
      "Epoch 82/100\n",
      "4/4 [==============================] - 0s 6ms/step - loss: 0.1046 - accuracy: 0.9832 - val_loss: 0.3201 - val_accuracy: 0.8667\n",
      "Epoch 83/100\n",
      "4/4 [==============================] - 0s 8ms/step - loss: 0.0943 - accuracy: 0.9832 - val_loss: 0.3011 - val_accuracy: 0.8667\n",
      "Epoch 84/100\n",
      "4/4 [==============================] - 0s 6ms/step - loss: 0.0872 - accuracy: 0.9748 - val_loss: 0.2936 - val_accuracy: 0.8667\n",
      "Epoch 85/100\n",
      "4/4 [==============================] - 0s 6ms/step - loss: 0.0807 - accuracy: 0.9748 - val_loss: 0.2922 - val_accuracy: 0.8667\n",
      "Epoch 86/100\n",
      "4/4 [==============================] - 0s 6ms/step - loss: 0.0749 - accuracy: 0.9832 - val_loss: 0.2881 - val_accuracy: 0.8667\n",
      "Epoch 87/100\n",
      "4/4 [==============================] - 0s 6ms/step - loss: 0.0710 - accuracy: 0.9832 - val_loss: 0.2989 - val_accuracy: 0.8667\n",
      "Epoch 88/100\n",
      "4/4 [==============================] - 0s 5ms/step - loss: 0.0661 - accuracy: 0.9832 - val_loss: 0.2946 - val_accuracy: 0.8667\n",
      "Epoch 89/100\n",
      "4/4 [==============================] - 0s 5ms/step - loss: 0.0631 - accuracy: 0.9832 - val_loss: 0.2918 - val_accuracy: 0.8667\n",
      "Epoch 90/100\n",
      "4/4 [==============================] - 0s 6ms/step - loss: 0.0598 - accuracy: 0.9832 - val_loss: 0.2823 - val_accuracy: 0.8667\n",
      "Epoch 91/100\n",
      "4/4 [==============================] - 0s 7ms/step - loss: 0.0579 - accuracy: 0.9832 - val_loss: 0.2794 - val_accuracy: 0.8667\n",
      "Epoch 92/100\n",
      "4/4 [==============================] - 0s 6ms/step - loss: 0.0564 - accuracy: 0.9832 - val_loss: 0.2852 - val_accuracy: 0.8667\n",
      "Epoch 93/100\n",
      "4/4 [==============================] - 0s 6ms/step - loss: 0.0540 - accuracy: 0.9832 - val_loss: 0.2831 - val_accuracy: 0.8667\n",
      "Epoch 94/100\n",
      "4/4 [==============================] - 0s 5ms/step - loss: 0.0527 - accuracy: 0.9832 - val_loss: 0.2722 - val_accuracy: 0.8667\n",
      "Epoch 95/100\n",
      "4/4 [==============================] - 0s 7ms/step - loss: 0.0516 - accuracy: 0.9832 - val_loss: 0.2783 - val_accuracy: 0.8667\n",
      "Epoch 96/100\n",
      "4/4 [==============================] - 0s 8ms/step - loss: 0.0501 - accuracy: 0.9832 - val_loss: 0.2747 - val_accuracy: 0.8667\n",
      "Epoch 97/100\n",
      "4/4 [==============================] - 0s 5ms/step - loss: 0.0490 - accuracy: 0.9832 - val_loss: 0.2801 - val_accuracy: 0.8667\n",
      "Epoch 98/100\n",
      "4/4 [==============================] - 0s 6ms/step - loss: 0.0491 - accuracy: 0.9832 - val_loss: 0.2853 - val_accuracy: 0.8667\n",
      "Epoch 99/100\n",
      "4/4 [==============================] - 0s 5ms/step - loss: 0.0474 - accuracy: 0.9832 - val_loss: 0.2740 - val_accuracy: 0.8667\n",
      "Epoch 100/100\n",
      "4/4 [==============================] - 0s 7ms/step - loss: 0.0466 - accuracy: 0.9832 - val_loss: 0.2717 - val_accuracy: 0.8667\n",
      "Model: \"sequential_33\"\n",
      "_________________________________________________________________\n",
      "Layer (type)                 Output Shape              Param #   \n",
      "=================================================================\n",
      "dense_165 (Dense)            (None, 12)                60        \n",
      "_________________________________________________________________\n",
      "dense_166 (Dense)            (None, 15)                195       \n",
      "_________________________________________________________________\n",
      "dense_167 (Dense)            (None, 8)                 128       \n",
      "_________________________________________________________________\n",
      "dense_168 (Dense)            (None, 10)                90        \n",
      "_________________________________________________________________\n",
      "dense_169 (Dense)            (None, 3)                 33        \n",
      "=================================================================\n",
      "Total params: 506\n",
      "Trainable params: 506\n",
      "Non-trainable params: 0\n",
      "_________________________________________________________________\n"
     ]
    }
   ],
   "source": [
    "model = Sequential()\n",
    "model.add(Dense( 12, input_dim=4, activation = 'relu'))\n",
    "model.add(Dense( units = 15, activation= 'relu'))\n",
    "model.add(Dense( units = 8, activation= 'relu'))\n",
    "model.add(Dense( units = 10, activation= 'relu'))\n",
    "model.add(Dense( units = 3, activation= 'softmax'))\n",
    "model.compile(loss = 'categorical_crossentropy', optimizer = 'adam', metrics = ['accuracy'])\n",
    "history = model.fit(x_train, y_train, epochs = 100, validation_data = (x_test, y_test))\n",
    "#early = EarlyStopping(monter= 'accuracy', min_delta=0 ,patience=20,verbose=1,mode=)\n",
    "#tf.keras.callbacks.EarlyStopping(monitor='val_loss', min_delta=0, patience=20, verbose=1, mode='auto',baseline=None, restore_best_weights=False)\n",
    "#early = EarlyStopping(monitor='val_loss', min_delta=0, patience=20, verbose=1, mode='auto',baseline=None, restore_best_weights=False)\n",
    "model.summary()"
   ]
  },
  {
   "cell_type": "code",
   "execution_count": 158,
   "metadata": {
    "colab": {
     "base_uri": "https://localhost:8080/",
     "height": 281
    },
    "id": "CNTbFoYyhB7u",
    "outputId": "4256ab28-6a91-4915-c422-aef7331d3261"
   },
   "outputs": [
    {
     "data": {
      "image/png": "[encoded data removed]",
      "text/plain": [
       "<Figure size 432x288 with 1 Axes>"
      ]
     },
     "metadata": {
      "needs_background": "light",
      "tags": []
     },
     "output_type": "display_data"
    }
   ],
   "source": [
    "plt.plot(history.history['accuracy'])\n",
    "plt.plot(history.history['val_accuracy'])\n",
    "plt.title(\"Accuracy\")\n",
    "plt.legend(['train', 'test'])\n",
    "plt.show()"
   ]
  },
  {
   "cell_type": "code",
   "execution_count": 159,
   "metadata": {
    "colab": {
     "base_uri": "https://localhost:8080/",
     "height": 281
    },
    "id": "Ksbo0-51njkK",
    "outputId": "226e6f56-ee00-4ade-9ef0-6a3a97b5387c"
   },
   "outputs": [
    {
     "data": {
      "image/png": "[encoded data removed]",
      "text/plain": [
       "<Figure size 432x288 with 1 Axes>"
      ]
     },
     "metadata": {
      "needs_background": "light",
      "tags": []
     },
     "output_type": "display_data"
    }
   ],
   "source": [
    "plt.plot(history.history['loss'])\n",
    "plt.plot(history.history['val_loss'])\n",
    "plt.title('Loss')\n",
    "plt.legend(['Train','Test'])\n",
    "plt.show()"
   ]
  },
  {
   "cell_type": "code",
   "execution_count": 163,
   "metadata": {
    "colab": {
     "base_uri": "https://localhost:8080/",
     "height": 54
    },
    "id": "LKjL1eDdIjWw",
    "outputId": "c280a5c5-b927-4e65-a62b-d7818b2f920f"
   },
   "outputs": [
    {
     "name": "stdout",
     "output_type": "stream",
     "text": [
      "1/1 [==============================] - 0s 1ms/step - loss: 0.2717 - accuracy: 0.8667\n"
     ]
    },
    {
     "data": {
      "text/plain": [
       "[0.2716507017612457, 0.8666666746139526]"
      ]
     },
     "execution_count": 163,
     "metadata": {
      "tags": []
     },
     "output_type": "execute_result"
    }
   ],
   "source": [
    "model.evaluate(x_test, y_test)"
   ]
  },
  {
   "cell_type": "code",
   "execution_count": null,
   "metadata": {
    "id": "Ohiyzj83I8T9"
   },
   "outputs": [],
   "source": []
  }
 ],
 "metadata": {
  "accelerator": "TPU",
  "colab": {
   "collapsed_sections": [],
   "name": "iris.colab.ipynb",
   "provenance": [],
   "toc_visible": true
  },
  "kernelspec": {
   "display_name": "Python 3",
   "language": "python",
   "name": "python3"
  },
  "language_info": {
   "codemirror_mode": {
    "name": "ipython",
    "version": 3
   },
   "file_extension": ".py",
   "mimetype": "text/x-python",
   "name": "python",
   "nbconvert_exporter": "python",
   "pygments_lexer": "ipython3",
   "version": "3.8.3"
  }
 },
 "nbformat": 4,
 "nbformat_minor": 1
}
